{
  "nbformat": 4,
  "nbformat_minor": 0,
  "metadata": {
    "colab": {
      "provenance": [],
      "authorship_tag": "ABX9TyOsQLMlUMZ8v4q8Z6nYmgu7",
      "include_colab_link": true
    },
    "kernelspec": {
      "name": "python3",
      "display_name": "Python 3"
    },
    "language_info": {
      "name": "python"
    }
  },
  "cells": [
    {
      "cell_type": "markdown",
      "metadata": {
        "id": "view-in-github",
        "colab_type": "text"
      },
      "source": [
        "<a href=\"https://colab.research.google.com/github/Vicysaragih/IDCamp-2024-Level-Menengah/blob/main/IDCamp_2024_Level_Menengah_10_Feb_2025.ipynb\" target=\"_parent\"><img src=\"https://colab.research.google.com/assets/colab-badge.svg\" alt=\"Open In Colab\"/></a>"
      ]
    },
    {
      "cell_type": "markdown",
      "source": [
        "# **Latihan Ekstraksi Fitur pada Teks**"
      ],
      "metadata": {
        "id": "7kl4zRBw8djS"
      }
    },
    {
      "cell_type": "markdown",
      "source": [
        "# **Word Embedding**\n",
        "\n",
        "Kode berikut adalah contoh implementasi Word2Vec menggunakan library Gensim dan NLTK di Python. Mari kita kupas bagian demi bagian."
      ],
      "metadata": {
        "id": "7WJp4YVB8lfN"
      }
    },
    {
      "cell_type": "code",
      "execution_count": null,
      "metadata": {
        "id": "tlwQNl3w8aa1"
      },
      "outputs": [],
      "source": [
        "# Pertama-tama, kita mengimpor modul yang dibutuhkan.\n",
        "from gensim.models import Word2Vec\n",
        "from nltk.tokenize import word_tokenize\n",
        "import nltk"
      ]
    },
    {
      "cell_type": "code",
      "source": [
        "# Kemudian, kita men-download modul Punkt tokenizer dari NLTK\n",
        "nltk.download('punkt')"
      ],
      "metadata": {
        "colab": {
          "base_uri": "https://localhost:8080/"
        },
        "id": "ToVUfdKc8o4e",
        "outputId": "4861970f-e2e8-40ef-8733-a256911aea47"
      },
      "execution_count": null,
      "outputs": [
        {
          "output_type": "stream",
          "name": "stderr",
          "text": [
            "[nltk_data] Downloading package punkt to /root/nltk_data...\n",
            "[nltk_data]   Unzipping tokenizers/punkt.zip.\n"
          ]
        },
        {
          "output_type": "execute_result",
          "data": {
            "text/plain": [
              "True"
            ]
          },
          "metadata": {},
          "execution_count": 2
        }
      ]
    },
    {
      "cell_type": "code",
      "source": [
        "# Langkah selanjutnya adalah mendefinisikan contoh data teks yang akan kita gunakan untuk melatih model Word2Vec.\n",
        "text_data = [\n",
        "    'Saya suka makan bakso',\n",
        "    'Bakso enak dan lezat',\n",
        "    'Makanan favorit saya adalah nasi goreng',\n",
        "    'Nasi goreng pedas adalah makanan favorit saya',\n",
        "    'Saya suka makanan manis seperti es krim',\n",
        "]"
      ],
      "metadata": {
        "id": "u8X6rN228qrB"
      },
      "execution_count": null,
      "outputs": []
    },
    {
      "cell_type": "code",
      "source": [
        "nltk.download('punkt_tab')"
      ],
      "metadata": {
        "colab": {
          "base_uri": "https://localhost:8080/"
        },
        "id": "0mSUzsg08sef",
        "outputId": "bd448c9a-dca1-4ce8-e24b-03e2b52b7391"
      },
      "execution_count": null,
      "outputs": [
        {
          "output_type": "stream",
          "name": "stderr",
          "text": [
            "[nltk_data] Downloading package punkt_tab to /root/nltk_data...\n",
            "[nltk_data]   Package punkt_tab is already up-to-date!\n"
          ]
        },
        {
          "output_type": "execute_result",
          "data": {
            "text/plain": [
              "True"
            ]
          },
          "metadata": {},
          "execution_count": 6
        }
      ]
    },
    {
      "cell_type": "code",
      "source": [
        "# Setelah itu, kita melakukan tokenisasi pada teks tersebut\n",
        "tokenized_data = [word_tokenize(sentence.lower()) for sentence in text_data]"
      ],
      "metadata": {
        "id": "CfEdO3au8u5u"
      },
      "execution_count": null,
      "outputs": []
    },
    {
      "cell_type": "code",
      "source": [
        "# Sekarang, saatnya membangun model Word2Vec menggunakan data teks yang sudah di-tokenisasi.\n",
        "model = Word2Vec(sentences=tokenized_data, vector_size=100, window=5, min_count=1, workers=4)"
      ],
      "metadata": {
        "id": "re_h5DYO8y48"
      },
      "execution_count": null,
      "outputs": []
    },
    {
      "cell_type": "code",
      "source": [
        "'''\n",
        "Di sini, parameter yang kita gunakan sebagai berikut.\n",
        "sentences: Data teks yang telah di-tokenisasi.\n",
        "vector_size: Ukuran dari vektor representasi kata. Dalam kasus ini, 100.\n",
        "window: Jumlah maksimum kata-kata yang dianggap konteks dekat dalam satu kalimat.\n",
        "min_count: Jumlah minimum kemunculan sebuah kata dalam korpus agar kata tersebut diperhitungkan.\n",
        "workers: Jumlah thread yang digunakan dalam proses pembangunan model.\n",
        "'''"
      ],
      "metadata": {
        "colab": {
          "base_uri": "https://localhost:8080/",
          "height": 71
        },
        "id": "lzltewxq80M-",
        "outputId": "225e3844-05f5-45aa-fdab-e32de6c714b0"
      },
      "execution_count": null,
      "outputs": [
        {
          "output_type": "execute_result",
          "data": {
            "text/plain": [
              "'\\nDi sini, parameter yang kita gunakan sebagai berikut.\\nsentences: Data teks yang telah di-tokenisasi.\\nvector_size: Ukuran dari vektor representasi kata. Dalam kasus ini, 100.\\nwindow: Jumlah maksimum kata-kata yang dianggap konteks dekat dalam satu kalimat.\\nmin_count: Jumlah minimum kemunculan sebuah kata dalam korpus agar kata tersebut diperhitungkan.\\nworkers: Jumlah thread yang digunakan dalam proses pembangunan model.\\n'"
            ],
            "application/vnd.google.colaboratory.intrinsic+json": {
              "type": "string"
            }
          },
          "metadata": {},
          "execution_count": 9
        }
      ]
    },
    {
      "cell_type": "code",
      "source": [
        "# Setelah model dibangun, kita bisa menggunakan vektor kata untuk kata-kata tertentu atau mencari kata-kata yang mirip dengan kata tertentu.\n",
        "word_vectors = model.wv\n",
        "\n",
        "similar_words = word_vectors.most_similar('bakso', topn=3)\n",
        "print(\"Kata-kata yang mirip dengan 'bakso':\", similar_words)\n",
        "\n",
        "vector = word_vectors['bakso']\n",
        "print(\"Vektor untuk 'bakso':\", vector)"
      ],
      "metadata": {
        "colab": {
          "base_uri": "https://localhost:8080/"
        },
        "id": "epXfVd6W822m",
        "outputId": "ec576ac7-fe0e-4de1-aa13-b02a560d7be5"
      },
      "execution_count": null,
      "outputs": [
        {
          "output_type": "stream",
          "name": "stdout",
          "text": [
            "Kata-kata yang mirip dengan 'bakso': [('manis', 0.2529163062572479), ('nasi', 0.17018672823905945), ('enak', 0.15006466209888458)]\n",
            "Vektor untuk 'bakso': [-0.00713882  0.00124156 -0.00717766 -0.00224369  0.00371885  0.00583258\n",
            "  0.00119832  0.00210183 -0.00411138  0.00722588 -0.00630644  0.00464789\n",
            " -0.00821918  0.00203677 -0.00497649 -0.00424685 -0.00310906  0.00565491\n",
            "  0.00579776 -0.00497439  0.00077378 -0.0084959   0.00780977  0.00925648\n",
            " -0.00274235  0.0007995   0.00074748  0.00547704 -0.00860589  0.00058358\n",
            "  0.00687019  0.00223141  0.00112457 -0.00932216  0.00848288 -0.0062632\n",
            " -0.00299165  0.00349458 -0.00077282  0.00141124  0.00178217 -0.00682961\n",
            " -0.00972456  0.00904072  0.00619895 -0.00691193  0.00340259  0.00020664\n",
            "  0.00475438 -0.00712046  0.00402629  0.00434812  0.00995727 -0.00447314\n",
            " -0.00138943 -0.00731689 -0.00969748 -0.00908048 -0.00102362 -0.00650396\n",
            "  0.0048507  -0.00616346  0.0025184   0.00073924 -0.00339173 -0.00097928\n",
            "  0.00997817  0.009146   -0.00446089  0.00908287 -0.00564239  0.00593029\n",
            " -0.00309763  0.00343232  0.00301726  0.00690047 -0.00237434  0.00877584\n",
            "  0.00759023 -0.00954767 -0.00800735 -0.00763848  0.0029233  -0.00279572\n",
            " -0.00692899 -0.00812822  0.0083084   0.0019909  -0.00932751 -0.00479288\n",
            "  0.00313647 -0.00471295  0.0052802  -0.00423267  0.00264146 -0.00804574\n",
            "  0.00620901  0.00481829  0.00078651  0.00301266]\n"
          ]
        }
      ]
    },
    {
      "cell_type": "markdown",
      "source": [
        "# **Term Frequency-Inverse Document Frequency (TF-IDF)**\n"
      ],
      "metadata": {
        "id": "Ix20Cf459T9a"
      }
    },
    {
      "cell_type": "code",
      "source": [
        "# Pertama-tama, kita mengimpor modul yang dibutuhkan.\n",
        "from sklearn.feature_extraction.text import TfidfVectorizer\n"
      ],
      "metadata": {
        "id": "FeU908Wf84tH"
      },
      "execution_count": null,
      "outputs": []
    },
    {
      "cell_type": "code",
      "source": [
        "#Selanjutnya, kita memiliki data teks contoh yang terdiri dari beberapa dokumen\n",
        "documents = [\n",
        "    \"Saya suka makan bakso\",\n",
        "    \"Bakso enak dan lezat\",\n",
        "    \"Makanan favorit saya adalah nasi goreng\",\n",
        "    \"Nasi goreng pedas adalah makanan favorit saya\",\n",
        "    \"Saya suka makanan manis seperti es krim\",\n",
        "]"
      ],
      "metadata": {
        "id": "YzC-fpsY-QJM"
      },
      "execution_count": null,
      "outputs": []
    },
    {
      "cell_type": "code",
      "source": [
        "# Inisialisasi objek TfidfVectorizer.\n",
        "tfidf_vectorizer = TfidfVectorizer()"
      ],
      "metadata": {
        "id": "0MuAOKSN-X2d"
      },
      "execution_count": null,
      "outputs": []
    },
    {
      "cell_type": "code",
      "source": [
        "# menghitung TF-IDF dari dokumen-dokumen tersebut\n",
        "tfidf_matrix = tfidf_vectorizer.fit_transform(documents)"
      ],
      "metadata": {
        "id": "27FblShY-hWD"
      },
      "execution_count": null,
      "outputs": []
    },
    {
      "cell_type": "code",
      "source": [
        "# melihat vocabulary (kata unik) yang dihasilkan oleh TfidfVectorizer\n",
        "print(\"Vocabulary:\", tfidf_vectorizer.vocabulary_)"
      ],
      "metadata": {
        "colab": {
          "base_uri": "https://localhost:8080/"
        },
        "id": "KGVjibxi-qMv",
        "outputId": "d325cd06-5a0f-4758-abdb-2d1b473b6742"
      },
      "execution_count": null,
      "outputs": [
        {
          "output_type": "stream",
          "name": "stdout",
          "text": [
            "Vocabulary: {'saya': 14, 'suka': 16, 'makan': 9, 'bakso': 1, 'enak': 3, 'dan': 2, 'lezat': 8, 'makanan': 10, 'favorit': 5, 'adalah': 0, 'nasi': 12, 'goreng': 6, 'pedas': 13, 'manis': 11, 'seperti': 15, 'es': 4, 'krim': 7}\n"
          ]
        }
      ]
    },
    {
      "cell_type": "code",
      "source": [
        "# melihat hasil dari TF-IDF matrix dalam bentuk array.\n",
        "print(\"TF-IDF Matrix:\")\n",
        "print(tfidf_matrix.toarray())"
      ],
      "metadata": {
        "colab": {
          "base_uri": "https://localhost:8080/"
        },
        "id": "BecjRgYp-5xx",
        "outputId": "a5a253c4-1615-4e57-ba27-a50d3dc163f9"
      },
      "execution_count": null,
      "outputs": [
        {
          "output_type": "stream",
          "name": "stdout",
          "text": [
            "TF-IDF Matrix:\n",
            "[[0.         0.49851188 0.         0.         0.         0.\n",
            "  0.         0.         0.         0.61789262 0.         0.\n",
            "  0.         0.         0.34810993 0.         0.49851188]\n",
            " [0.         0.42224214 0.52335825 0.52335825 0.         0.\n",
            "  0.         0.         0.52335825 0.         0.         0.\n",
            "  0.         0.         0.         0.         0.        ]\n",
            " [0.43951606 0.         0.         0.         0.         0.43951606\n",
            "  0.43951606 0.         0.         0.         0.36483803 0.\n",
            "  0.43951606 0.         0.30691325 0.         0.        ]\n",
            " [0.38596041 0.         0.         0.         0.         0.38596041\n",
            "  0.38596041 0.         0.         0.         0.320382   0.\n",
            "  0.38596041 0.47838798 0.26951544 0.         0.        ]\n",
            " [0.         0.         0.         0.         0.42966246 0.\n",
            "  0.         0.42966246 0.         0.         0.28774996 0.42966246\n",
            "  0.         0.         0.24206433 0.42966246 0.34664897]]\n"
          ]
        }
      ]
    },
    {
      "cell_type": "markdown",
      "source": [
        "Dengan TF-IDF Matrix ini, kita bisa melihat kata-kata yang paling penting dalam setiap dokumen berdasarkan konteksnya. Semakin tinggi nilai dalam tabel, semakin penting kata tersebut pada dokumen tersebut."
      ],
      "metadata": {
        "id": "7uFsTLFw_LO-"
      }
    },
    {
      "cell_type": "markdown",
      "source": [
        "# **Bag of Words (BoW)**"
      ],
      "metadata": {
        "id": "KciYfulS_Td6"
      }
    },
    {
      "cell_type": "code",
      "source": [
        "# Import library CountVectorizer dari Scikit-learn yang digunakan untuk mengubah teks menjadi representasi Bag of Words (BoW).\n",
        "from sklearn.feature_extraction.text import CountVectorizer"
      ],
      "metadata": {
        "id": "7O4lOTmQ_EIf"
      },
      "execution_count": null,
      "outputs": []
    },
    {
      "cell_type": "code",
      "source": [
        "# Data teks berisi beberapa dokumen contoh yang akan diolah\n",
        "documents = [\n",
        "    \"Ini adalah contoh dokumen pertama.\",\n",
        "    \"Ini adalah dokumen kedua.\",\n",
        "    \"Ini adalah dokumen ketiga.\",\n",
        "    \"Ini adalah contoh contoh contoh.\"\n",
        "]"
      ],
      "metadata": {
        "id": "aC4lOZ9i_iiW"
      },
      "execution_count": null,
      "outputs": []
    },
    {
      "cell_type": "code",
      "source": [
        "# Inisialisasi objek CountVectorizer\n",
        "vectorizer = CountVectorizer()"
      ],
      "metadata": {
        "id": "syWLOaco_nhz"
      },
      "execution_count": null,
      "outputs": []
    },
    {
      "cell_type": "code",
      "source": [
        "# Melakukan fitting dan transformasi pada data teks menggunakan CountVectorizer. Proses ini akan menghitung frekuensi kemunculan setiap kata dalam setiap dokumen.\n",
        "bow_matrix = vectorizer.fit_transform(documents)"
      ],
      "metadata": {
        "id": "br3ayDpE_rqA"
      },
      "execution_count": null,
      "outputs": []
    },
    {
      "cell_type": "code",
      "source": [
        "# Setelah transformasi, kita mendapatkan matriks Bag of Words (BoW), yang merupakan representasi numerik dari teks. Matriks ini berisi jumlah kemunculan setiap kata dalam setiap dokumen.\n",
        "bow_matrix.toarray()"
      ],
      "metadata": {
        "colab": {
          "base_uri": "https://localhost:8080/"
        },
        "id": "_0KzR2ll_wnO",
        "outputId": "269f7ef0-d607-44b6-b265-bda18ce16d19"
      },
      "execution_count": null,
      "outputs": [
        {
          "output_type": "execute_result",
          "data": {
            "text/plain": [
              "array([[1, 1, 1, 1, 0, 0, 1],\n",
              "       [1, 0, 1, 1, 1, 0, 0],\n",
              "       [1, 0, 1, 1, 0, 1, 0],\n",
              "       [1, 3, 0, 1, 0, 0, 0]])"
            ]
          },
          "metadata": {},
          "execution_count": 23
        }
      ]
    },
    {
      "cell_type": "code",
      "source": [
        "features = vectorizer.get_feature_names_out()"
      ],
      "metadata": {
        "id": "Cqqln5oM_4Rs"
      },
      "execution_count": null,
      "outputs": []
    },
    {
      "cell_type": "code",
      "source": [
        "# Hasilnya, kita mencetak matriks BoW beserta daftar fitur yang dihasilkan.\n",
        "print(\"Matriks BoW:\")\n",
        "print(bow_matrix.toarray())\n",
        "\n",
        "print(\"\\nDaftar Fitur:\")\n",
        "print(features)"
      ],
      "metadata": {
        "colab": {
          "base_uri": "https://localhost:8080/"
        },
        "id": "jUi1WTDW_8pT",
        "outputId": "2b19aa02-9217-4fdc-dfcd-a783f273f819"
      },
      "execution_count": null,
      "outputs": [
        {
          "output_type": "stream",
          "name": "stdout",
          "text": [
            "Matriks BoW:\n",
            "[[1 1 1 1 0 0 1]\n",
            " [1 0 1 1 1 0 0]\n",
            " [1 0 1 1 0 1 0]\n",
            " [1 3 0 1 0 0 0]]\n",
            "\n",
            "Daftar Fitur:\n",
            "['adalah' 'contoh' 'dokumen' 'ini' 'kedua' 'ketiga' 'pertama']\n"
          ]
        }
      ]
    },
    {
      "cell_type": "markdown",
      "source": [
        "**Matriks Bag of Words (BoW**) adalah representasi numerik dari teks yang menunjukkan jumlah kemunculan setiap kata dalam setiap dokumen. Pada contoh ini, matriks BoW memiliki 4 baris yang mewakili 4 dokumen dan 7 kolom yang mewakili 7 kata unik dalam teks.\n",
        "\n",
        "Misalnya, dalam dokumen pertama, kata 'adalah', 'contoh', 'dokumen', dan 'ini' muncul masing-masing 1 kali, sementara kata 'kedua', 'ketiga', dan 'pertama' tidak muncul. Daftar fitur adalah daftar kata-kata unik yang diurutkan secara alfabetis."
      ],
      "metadata": {
        "id": "jczzQDF9AJtl"
      }
    },
    {
      "cell_type": "markdown",
      "source": [
        "# **N-gram**\n"
      ],
      "metadata": {
        "id": "Q7gZ5VZdAfY6"
      }
    },
    {
      "cell_type": "code",
      "source": [
        "# Import library yang diperlukan\n",
        "from nltk.util import ngrams"
      ],
      "metadata": {
        "id": "TW0RiGKQABvh"
      },
      "execution_count": null,
      "outputs": []
    },
    {
      "cell_type": "code",
      "source": [
        "# Tentukan beberapa kalimat contoh\n",
        "sentences = [\n",
        "    \"Saya suka makan bakso enak di warung dekat rumah.\",\n",
        "    \"Nasi goreng adalah salah satu makanan favorit saya.\",\n",
        "    \"Es krim coklat sangat lezat dan menyegarkan.\",\n",
        "    \"Saat hari hujan, saya suka minum teh hangat.\",\n",
        "    \"Pemandangan pegunungan di pagi hari sangat indah.\",\n",
        "    \"Bola basket adalah olahraga favorit saya sejak kecil.\"\n",
        "]"
      ],
      "metadata": {
        "id": "O3VWKBWcAmPC"
      },
      "execution_count": null,
      "outputs": []
    },
    {
      "cell_type": "code",
      "source": [
        "# Iterasi melalui setiap kalimat dalam daftar kalimat\n",
        "for sentence in sentences:\n",
        "    pass # Add a placeholder statement since the loop body is empty"
      ],
      "metadata": {
        "id": "CIsWdXgDAqG1"
      },
      "execution_count": null,
      "outputs": []
    },
    {
      "cell_type": "code",
      "source": [
        "# Bagi setiap kalimat menjadi kata-kata individu\n",
        "words = sentence.split()"
      ],
      "metadata": {
        "id": "aYfTCcLZAvWT"
      },
      "execution_count": null,
      "outputs": []
    },
    {
      "cell_type": "code",
      "source": [
        "# Buat 1-gram (unigram) dari kata-kata dalam kalimat tersebut\n",
        "unigrams = list(ngrams(words, 1))"
      ],
      "metadata": {
        "id": "UsmmNG2DBA1o"
      },
      "execution_count": null,
      "outputs": []
    },
    {
      "cell_type": "code",
      "source": [
        "# Buat 2-gram (bigram) dari kata-kata dalam kalimat tersebut\n",
        "bigrams = list(ngrams(words, 2))"
      ],
      "metadata": {
        "id": "pTnRF3bbBE8U"
      },
      "execution_count": null,
      "outputs": []
    },
    {
      "cell_type": "code",
      "source": [
        "# Buat 3-gram (trigram) dari kata-kata dalam kalimat tersebut\n",
        "trigrams = list(ngrams(words, 3))"
      ],
      "metadata": {
        "id": "ZKdNswbgBJWD"
      },
      "execution_count": null,
      "outputs": []
    },
    {
      "cell_type": "code",
      "source": [
        "# Cetak hasil untuk setiap kalimat, termasuk unigram, bigram, dan trigram\n",
        "print(\"\\nKalimat:\", sentence)\n",
        "print(\"1-gram:\")\n",
        "for gram in unigrams:\n",
        "    print(gram)\n",
        "print(\"\\n2-gram:\")\n",
        "for gram in bigrams:\n",
        "    print(gram)\n",
        "print(\"\\n3-gram:\")\n",
        "for gram in trigrams:\n",
        "    print(gram)"
      ],
      "metadata": {
        "colab": {
          "base_uri": "https://localhost:8080/"
        },
        "id": "Xuvc553oBNR4",
        "outputId": "ec393474-f6d0-4a63-b755-545c82ca8ce8"
      },
      "execution_count": null,
      "outputs": [
        {
          "output_type": "stream",
          "name": "stdout",
          "text": [
            "\n",
            "Kalimat: Bola basket adalah olahraga favorit saya sejak kecil.\n",
            "1-gram:\n",
            "('Bola',)\n",
            "('basket',)\n",
            "('adalah',)\n",
            "('olahraga',)\n",
            "('favorit',)\n",
            "('saya',)\n",
            "('sejak',)\n",
            "('kecil.',)\n",
            "\n",
            "2-gram:\n",
            "('Bola', 'basket')\n",
            "('basket', 'adalah')\n",
            "('adalah', 'olahraga')\n",
            "('olahraga', 'favorit')\n",
            "('favorit', 'saya')\n",
            "('saya', 'sejak')\n",
            "('sejak', 'kecil.')\n",
            "\n",
            "3-gram:\n",
            "('Bola', 'basket', 'adalah')\n",
            "('basket', 'adalah', 'olahraga')\n",
            "('adalah', 'olahraga', 'favorit')\n",
            "('olahraga', 'favorit', 'saya')\n",
            "('favorit', 'saya', 'sejak')\n",
            "('saya', 'sejak', 'kecil.')\n"
          ]
        }
      ]
    },
    {
      "cell_type": "code",
      "source": [],
      "metadata": {
        "id": "ZPzs1F83BRHy"
      },
      "execution_count": null,
      "outputs": []
    }
  ]
}